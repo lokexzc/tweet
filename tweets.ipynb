{
 "cells": [
  {
   "cell_type": "markdown",
   "metadata": {},
   "source": [
    "# Tweets Sentiment Analysis\n",
    "\n",
    "**Sentiment Analysis**: Social media can be a great place to connect with others and share positive thoughts and experiences. However, it can also be a breeding ground for negativity and hate speech. This project aims to develop a system to rank tweets by kindness in order to promote more positive and supportive online interactions.\n",
    "\n",
    "**Benefits:**\n",
    "\n",
    "The proposed system has the potential to provide a number of benefits, including:\n",
    "\n",
    "- Promoting more positive and supportive online interactions\n",
    "- Reducing the spread of negativity and hate speech\n",
    "- Helping people to find and connect with others who share their values\n",
    "- Making social media a more enjoyable and welcoming place for everyone\n",
    "\n",
    "**Dataset**:\n",
    "\n",
    "1. `tweets.txt` - a list of tweets (one per line)\n",
    "1. `words_positive.txt` - a list of positive words like \"love,\" \"compassion,\" and \"gratitude\"\n",
    "1. `words_negative.txt` - a list of negative words like \"hate,\" \"anger,\" and \"fear\"\n",
    "\n",
    "**Requirements:**\n",
    "\n",
    "The proposed system will use sentiment analysis to identify and rank tweets based on their level of positiveness and negativeness.\n",
    "\n",
    "The system should display the tweets sorted by their score, with the most positive tweets first."
   ]
  },
  {
   "cell_type": "code",
   "execution_count": 26,
   "metadata": {},
   "outputs": [],
   "source": [
    "s = 'abc def geh'\n",
    "l = s.split(' ')"
   ]
  },
  {
   "cell_type": "code",
   "execution_count": 22,
   "metadata": {},
   "outputs": [
    {
     "data": {
      "text/plain": [
       "['abc', 'def', 'geh']"
      ]
     },
     "execution_count": 22,
     "metadata": {},
     "output_type": "execute_result"
    }
   ],
   "source": [
    "'abc def geh'.split(' ')"
   ]
  },
  {
   "cell_type": "code",
   "execution_count": 29,
   "metadata": {},
   "outputs": [
    {
     "name": "stdout",
     "output_type": "stream",
     "text": [
      "['', 'Grateful for the amazing people in my life who make it so wonderful', '', 'The beautiful flowers were in full bloom and the sweet scent filled the air. The birds were singing merrily and the sun was shining brightly. It was a perfect day', '', 'The kind and generous old man was always willing to help others. He was a role model for the entire community and he was loved by everyone', '', 'The intelligent and talented young woman had a bright future ahead of her. She was passionate about her work and she was determined to make a difference in the world', '', 'Sending out good vibes to everyone today! Have a beautiful day!', '', \"I've been feeling so anxious and stressed lately with everything going on. Really need a break from it all.\", '', \"Traffic was the worst it's ever been today. The long commute just made me feel grumpy and drained.\", '', 'Had an awful morning - overslept and missed my first meeting. Feeling uneasy about how my boss will react.', '', \"All the noise from the construction outside is driving me nuts. It's making working from home dreadful.\", '', \"Went out with some friends last night but didn't have as much fun as I thought. Felt a bit lonely and left early feeling uneasy.\"]\n"
     ]
    }
   ],
   "source": [
    "with open(\"tweets.txt\") as f:\n",
    "    s = f.read()\n",
    "    l = s.splitlines()\n",
    "    f.close()\n",
    "\n",
    "print(l)"
   ]
  },
  {
   "cell_type": "code",
   "execution_count": 19,
   "metadata": {},
   "outputs": [
    {
     "name": "stdout",
     "output_type": "stream",
     "text": [
      "anxious\n",
      "stressed\n",
      "worst\n",
      "grumpy\n",
      "drained\n",
      "awful\n",
      "overslept\n",
      "missed\n",
      "uneasy\n",
      "boss\n",
      "noise\n",
      "dreadful\n",
      "lonely\n"
     ]
    }
   ],
   "source": [
    "with open(\"words_negative.txt\") as n:\n",
    "    print(n.read())\n",
    "    f.close"
   ]
  },
  {
   "cell_type": "code",
   "execution_count": 20,
   "metadata": {},
   "outputs": [
    {
     "name": "stdout",
     "output_type": "stream",
     "text": [
      "Grateful\n",
      "amazing\n",
      "wonderful\n",
      "beautiful\n",
      "sweet\n",
      "perfect\n",
      "kind\n",
      "generous\n",
      "help\n",
      "loved\n",
      "intelligent\n",
      "talented\n",
      "young\n",
      "bright\n",
      "passionate\n",
      "determined\n",
      "good\n",
      "beautiful\n",
      "friends\n",
      "fun\n",
      "\n"
     ]
    }
   ],
   "source": [
    "with open(\"words_positive.txt\") as p:\n",
    "    print(p.read())\n",
    "    f.close"
   ]
  }
 ],
 "metadata": {
  "kernelspec": {
   "display_name": "Python 3",
   "language": "python",
   "name": "python3"
  },
  "language_info": {
   "codemirror_mode": {
    "name": "ipython",
    "version": 3
   },
   "file_extension": ".py",
   "mimetype": "text/x-python",
   "name": "python",
   "nbconvert_exporter": "python",
   "pygments_lexer": "ipython3",
   "version": "3.9.13"
  }
 },
 "nbformat": 4,
 "nbformat_minor": 2
}
